{
 "cells": [
  {
   "cell_type": "code",
   "execution_count": 1,
   "id": "dd028245",
   "metadata": {},
   "outputs": [],
   "source": [
    "import pandas as pd\n",
    "import numpy as np"
   ]
  },
  {
   "cell_type": "code",
   "execution_count": 2,
   "id": "8c99d6c0",
   "metadata": {},
   "outputs": [],
   "source": [
    "import os\n",
    "os.chdir('data')"
   ]
  },
  {
   "cell_type": "code",
   "execution_count": 3,
   "id": "0e976a88",
   "metadata": {},
   "outputs": [],
   "source": [
    "import importlib\n",
    "import helpers\n",
    "importlib.reload(helpers)\n",
    "from helpers import get_lagged_main_df, get_forecast, get_period\n",
    "from helpers import r2_score_adj, mean_absolute_percentage_error\n",
    "from helpers import Naive"
   ]
  },
  {
   "cell_type": "code",
   "execution_count": 4,
   "id": "06edd475",
   "metadata": {},
   "outputs": [],
   "source": [
    "import matplotlib.pyplot as plt "
   ]
  },
  {
   "cell_type": "code",
   "execution_count": 5,
   "id": "7f59b279",
   "metadata": {},
   "outputs": [],
   "source": [
    "from sklearn.preprocessing import StandardScaler\n",
    "import warnings\n",
    "warnings.filterwarnings('ignore')\n",
    "from collections import defaultdict\n",
    "\n",
    "from sklearn.model_selection import cross_val_score\n",
    "from sklearn.metrics import make_scorer, r2_score\n",
    "from sklearn.linear_model import LinearRegression, ElasticNet, Ridge, ElasticNetCV\n",
    "from sklearn.svm import SVR"
   ]
  },
  {
   "cell_type": "code",
   "execution_count": 6,
   "id": "018c2653",
   "metadata": {},
   "outputs": [],
   "source": [
    "from datetime import datetime, timedelta, date, time"
   ]
  },
  {
   "cell_type": "markdown",
   "id": "b646f74e",
   "metadata": {},
   "source": [
    "# Load data"
   ]
  },
  {
   "cell_type": "code",
   "execution_count": 7,
   "id": "c86bdd68",
   "metadata": {},
   "outputs": [],
   "source": [
    "final_m_full_df = pd.read_csv('final_m_full_df.tsv', sep='\\t')\n",
    "final_m_full_df.set_index('period', inplace=True)\n",
    "final_m_full_df.index = final_m_full_df.index.astype('datetime64[ns]', copy=False)\n",
    "\n",
    "main_m_full_df = get_lagged_main_df(final_m_full_df, n_lag_target=12, n_lag_feature=12)\n",
    "main_m_full_df = main_m_full_df.dropna()"
   ]
  },
  {
   "cell_type": "code",
   "execution_count": 115,
   "id": "18f9907c",
   "metadata": {},
   "outputs": [],
   "source": [
    "final_m_df = pd.read_csv('final_m_df.tsv', sep='\\t')\n",
    "final_m_df.set_index('period', inplace=True)\n",
    "final_m_df.index = final_m_df.index.astype('datetime64[ns]', copy=False)\n",
    "\n",
    "main_m_df = get_lagged_main_df(final_m_df, n_lag_target=12, n_lag_feature=12)\n",
    "main_m_df = main_m_df.dropna()"
   ]
  },
  {
   "cell_type": "markdown",
   "id": "9bf649a5",
   "metadata": {},
   "source": [
    "# Select features"
   ]
  },
  {
   "cell_type": "code",
   "execution_count": 87,
   "id": "b70cb4d6",
   "metadata": {},
   "outputs": [],
   "source": [
    "main_m_df = main_m_full_df"
   ]
  },
  {
   "cell_type": "code",
   "execution_count": 137,
   "id": "f70dee20",
   "metadata": {},
   "outputs": [
    {
     "data": {
      "text/plain": [
       "35"
      ]
     },
     "execution_count": 137,
     "metadata": {},
     "output_type": "execute_result"
    }
   ],
   "source": [
    "from mlxtend.feature_selection import SequentialFeatureSelector\n",
    "start_date = '2004-01-01'\n",
    "finish_date = '2021-12-01'\n",
    "split_start = 192 #2020-01-01\n",
    "look_forward = 12\n",
    "df = main_m_df[((main_m_df.index >= start_date) & ((main_m_df.index <= finish_date)))]\n",
    "X = df.drop(['target'], axis=1)\n",
    "y = df.target\n",
    "\n",
    "splits = [(np.array(range(0, i)), \n",
    "           np.array(range(i, i + look_forward))) for i in range(split_start, \n",
    "                                                                X.shape[0] - (look_forward - 1), 1)]\n",
    "\n",
    "scaler = StandardScaler()\n",
    "scaler.fit(X)\n",
    "\n",
    "sfs = SequentialFeatureSelector(\n",
    "                                estimator=ElasticNet(),\n",
    "                                #estimator=LinearRegression(),\n",
    "                                forward=True,\n",
    "                                k_features=(5, 35), \n",
    "                                cv=splits,\n",
    "                                #scoring=r2_score_adj\n",
    "                                scoring=make_scorer(mean_absolute_percentage_error, greater_is_better=False)\n",
    "                               )\n",
    "if scaler:\n",
    "    sfs.fit(scaler.transform(X), y)\n",
    "else:\n",
    "    sfs.fit(X, y)\n",
    "selected_cols_sfs = list(X.columns[list(sfs.k_feature_idx_)])\n",
    "len(selected_cols_sfs)"
   ]
  },
  {
   "cell_type": "code",
   "execution_count": 138,
   "id": "48f9f988",
   "metadata": {},
   "outputs": [
    {
     "data": {
      "text/plain": [
       "['target_lag_1',\n",
       " 'Handysize Bulker Scrap Value_8693_lag_4',\n",
       " 'Handysize Bulker Scrap Value_8693_lag_5',\n",
       " 'Handysize Bulker Scrap Value_8693_lag_6',\n",
       " 'Handysize Bulker Scrap Value_8693_lag_std',\n",
       " 'Inflation Indicator OECD Europe (excl Turkey)_lag_1',\n",
       " 'Inflation Indicator OECD Europe (excl Turkey)_lag_4',\n",
       " 'Inflation Indicator OECD Europe (excl Turkey)_lag_std',\n",
       " 'Inflation Indicator USA_lag_1',\n",
       " 'Inflation Indicator USA_lag_2',\n",
       " 'Inflation Indicator USA_lag_std',\n",
       " 'Inflation Indicator Japan_lag_1',\n",
       " 'Inflation Indicator Japan_lag_2',\n",
       " 'Inflation Indicator Japan_lag_3',\n",
       " 'Inflation Indicator Japan_lag_4',\n",
       " 'Inflation Indicator Japan_lag_12',\n",
       " 'Inflation Indicator OECD_lag_1',\n",
       " 'Inflation Indicator OECD_lag_2',\n",
       " 'Inflation Indicator OECD_lag_std',\n",
       " 'Brent Crude Oil Price_lag_10',\n",
       " 'Brent Crude Oil Price_lag_11',\n",
       " 'Brent Crude Oil Price_lag_12',\n",
       " 'Japan Steel Ship Plate Commodity Price_lag_1',\n",
       " 'Japan Steel Ship Plate Commodity Price_lag_2',\n",
       " 'Japan Steel Ship Plate Commodity Price_lag_3',\n",
       " 'Japan Steel Ship Plate Commodity Price_lag_4',\n",
       " 'Japan Steel Ship Plate Commodity Price_lag_5',\n",
       " 'Japan Steel Ship Plate Commodity Price_lag_6',\n",
       " 'Japan Steel Ship Plate Commodity Price_lag_7',\n",
       " 'Japan Steel Ship Plate Commodity Price_lag_8',\n",
       " 'Japan Steel Ship Plate Commodity Price_lag_10',\n",
       " 'Japan Steel Ship Plate Commodity Price_lag_mean',\n",
       " 'Saudi Posted Contract Price - Propane_lag_std',\n",
       " 'Saudi Posted Contract Price - Butane_lag_std',\n",
       " 'Mont Belvieu Texas Spot Price - Propane_lag_1']"
      ]
     },
     "execution_count": 138,
     "metadata": {},
     "output_type": "execute_result"
    }
   ],
   "source": [
    "selected_cols_sfs"
   ]
  },
  {
   "cell_type": "code",
   "execution_count": 92,
   "id": "0385b270",
   "metadata": {},
   "outputs": [
    {
     "data": {
      "text/html": [
       "<div>\n",
       "<style scoped>\n",
       "    .dataframe tbody tr th:only-of-type {\n",
       "        vertical-align: middle;\n",
       "    }\n",
       "\n",
       "    .dataframe tbody tr th {\n",
       "        vertical-align: top;\n",
       "    }\n",
       "\n",
       "    .dataframe thead th {\n",
       "        text-align: right;\n",
       "    }\n",
       "</style>\n",
       "<table border=\"1\" class=\"dataframe\">\n",
       "  <thead>\n",
       "    <tr style=\"text-align: right;\">\n",
       "      <th></th>\n",
       "      <th>feature_idx</th>\n",
       "      <th>cv_scores</th>\n",
       "      <th>avg_score</th>\n",
       "      <th>feature_names</th>\n",
       "      <th>ci_bound</th>\n",
       "      <th>std_dev</th>\n",
       "      <th>std_err</th>\n",
       "    </tr>\n",
       "  </thead>\n",
       "  <tbody>\n",
       "    <tr>\n",
       "      <th>1</th>\n",
       "      <td>(0,)</td>\n",
       "      <td>[0.5982603802396045, 0.6568603711302405, -1.96...</td>\n",
       "      <td>-0.129688</td>\n",
       "      <td>(0,)</td>\n",
       "      <td>1.384239</td>\n",
       "      <td>1.076985</td>\n",
       "      <td>0.538492</td>\n",
       "    </tr>\n",
       "    <tr>\n",
       "      <th>2</th>\n",
       "      <td>(0, 320)</td>\n",
       "      <td>[0.7078464825487347, 0.6142579563184888, 0.358...</td>\n",
       "      <td>0.560267</td>\n",
       "      <td>(0, 320)</td>\n",
       "      <td>0.203181</td>\n",
       "      <td>0.158082</td>\n",
       "      <td>0.079041</td>\n",
       "    </tr>\n",
       "    <tr>\n",
       "      <th>3</th>\n",
       "      <td>(0, 1, 320)</td>\n",
       "      <td>[0.695189899574583, 0.7385602379641204, 0.4207...</td>\n",
       "      <td>0.661871</td>\n",
       "      <td>(0, 1, 320)</td>\n",
       "      <td>0.168377</td>\n",
       "      <td>0.131003</td>\n",
       "      <td>0.065501</td>\n",
       "    </tr>\n",
       "    <tr>\n",
       "      <th>4</th>\n",
       "      <td>(0, 1, 320, 420)</td>\n",
       "      <td>[0.7438713406947313, 0.6820868691852842, 0.615...</td>\n",
       "      <td>0.720467</td>\n",
       "      <td>(0, 1, 320, 420)</td>\n",
       "      <td>0.089727</td>\n",
       "      <td>0.069811</td>\n",
       "      <td>0.034905</td>\n",
       "    </tr>\n",
       "    <tr>\n",
       "      <th>5</th>\n",
       "      <td>(0, 1, 320, 420, 515)</td>\n",
       "      <td>[0.7484649549878079, 0.6609465023561982, 0.795...</td>\n",
       "      <td>0.748448</td>\n",
       "      <td>(0, 1, 320, 420, 515)</td>\n",
       "      <td>0.065159</td>\n",
       "      <td>0.050696</td>\n",
       "      <td>0.025348</td>\n",
       "    </tr>\n",
       "    <tr>\n",
       "      <th>6</th>\n",
       "      <td>(0, 1, 320, 392, 420, 515)</td>\n",
       "      <td>[0.7553413490135152, 0.6990816429328848, 0.781...</td>\n",
       "      <td>0.77604</td>\n",
       "      <td>(0, 1, 320, 392, 420, 515)</td>\n",
       "      <td>0.059545</td>\n",
       "      <td>0.046328</td>\n",
       "      <td>0.023164</td>\n",
       "    </tr>\n",
       "    <tr>\n",
       "      <th>7</th>\n",
       "      <td>(0, 1, 320, 392, 420, 515, 711)</td>\n",
       "      <td>[0.749174244581278, 0.6888338679626655, 0.8008...</td>\n",
       "      <td>0.779736</td>\n",
       "      <td>(0, 1, 320, 392, 420, 515, 711)</td>\n",
       "      <td>0.07099</td>\n",
       "      <td>0.055233</td>\n",
       "      <td>0.027616</td>\n",
       "    </tr>\n",
       "    <tr>\n",
       "      <th>8</th>\n",
       "      <td>(0, 1, 320, 392, 420, 515, 711, 810)</td>\n",
       "      <td>[0.7364291503668554, 0.6858561278090074, 0.764...</td>\n",
       "      <td>0.785445</td>\n",
       "      <td>(0, 1, 320, 392, 420, 515, 711, 810)</td>\n",
       "      <td>0.094931</td>\n",
       "      <td>0.07386</td>\n",
       "      <td>0.03693</td>\n",
       "    </tr>\n",
       "    <tr>\n",
       "      <th>9</th>\n",
       "      <td>(0, 1, 221, 320, 392, 420, 515, 711, 810)</td>\n",
       "      <td>[0.7326054951635939, 0.6748830422393035, 0.826...</td>\n",
       "      <td>0.794637</td>\n",
       "      <td>(0, 1, 221, 320, 392, 420, 515, 711, 810)</td>\n",
       "      <td>0.101394</td>\n",
       "      <td>0.078888</td>\n",
       "      <td>0.039444</td>\n",
       "    </tr>\n",
       "    <tr>\n",
       "      <th>10</th>\n",
       "      <td>(0, 1, 221, 303, 320, 392, 420, 515, 711, 810)</td>\n",
       "      <td>[0.728554893020585, 0.6618931848153639, 0.8493...</td>\n",
       "      <td>0.796084</td>\n",
       "      <td>(0, 1, 221, 303, 320, 392, 420, 515, 711, 810)</td>\n",
       "      <td>0.111604</td>\n",
       "      <td>0.086832</td>\n",
       "      <td>0.043416</td>\n",
       "    </tr>\n",
       "    <tr>\n",
       "      <th>11</th>\n",
       "      <td>(0, 1, 221, 303, 320, 392, 420, 515, 681, 711,...</td>\n",
       "      <td>[0.7239214920593813, 0.6533491897188428, 0.846...</td>\n",
       "      <td>0.794792</td>\n",
       "      <td>(0, 1, 221, 303, 320, 392, 420, 515, 681, 711,...</td>\n",
       "      <td>0.117875</td>\n",
       "      <td>0.091711</td>\n",
       "      <td>0.045855</td>\n",
       "    </tr>\n",
       "    <tr>\n",
       "      <th>12</th>\n",
       "      <td>(0, 1, 39, 221, 303, 320, 392, 420, 515, 681, ...</td>\n",
       "      <td>[0.7212297339719231, 0.6483597368784362, 0.847...</td>\n",
       "      <td>0.792535</td>\n",
       "      <td>(0, 1, 39, 221, 303, 320, 392, 420, 515, 681, ...</td>\n",
       "      <td>0.119975</td>\n",
       "      <td>0.093345</td>\n",
       "      <td>0.046672</td>\n",
       "    </tr>\n",
       "    <tr>\n",
       "      <th>13</th>\n",
       "      <td>(0, 1, 39, 221, 303, 320, 392, 420, 515, 681, ...</td>\n",
       "      <td>[0.7134990146751109, 0.6362707961340659, 0.840...</td>\n",
       "      <td>0.788404</td>\n",
       "      <td>(0, 1, 39, 221, 303, 320, 392, 420, 515, 681, ...</td>\n",
       "      <td>0.126351</td>\n",
       "      <td>0.098305</td>\n",
       "      <td>0.049153</td>\n",
       "    </tr>\n",
       "    <tr>\n",
       "      <th>14</th>\n",
       "      <td>(0, 1, 39, 221, 303, 320, 392, 420, 515, 681, ...</td>\n",
       "      <td>[0.7035938292500563, 0.6253016043343405, 0.870...</td>\n",
       "      <td>0.784339</td>\n",
       "      <td>(0, 1, 39, 221, 303, 320, 392, 420, 515, 681, ...</td>\n",
       "      <td>0.132111</td>\n",
       "      <td>0.102787</td>\n",
       "      <td>0.051394</td>\n",
       "    </tr>\n",
       "    <tr>\n",
       "      <th>15</th>\n",
       "      <td>(0, 1, 39, 221, 303, 320, 392, 420, 515, 531, ...</td>\n",
       "      <td>[0.6946002555316533, 0.6140321859524724, 0.854...</td>\n",
       "      <td>0.77901</td>\n",
       "      <td>(0, 1, 39, 221, 303, 320, 392, 420, 515, 531, ...</td>\n",
       "      <td>0.13818</td>\n",
       "      <td>0.107509</td>\n",
       "      <td>0.053754</td>\n",
       "    </tr>\n",
       "    <tr>\n",
       "      <th>16</th>\n",
       "      <td>(0, 1, 39, 221, 303, 320, 392, 420, 515, 531, ...</td>\n",
       "      <td>[0.6817344805257748, 0.59545608021096, 0.85593...</td>\n",
       "      <td>0.772685</td>\n",
       "      <td>(0, 1, 39, 221, 303, 320, 392, 420, 515, 531, ...</td>\n",
       "      <td>0.14796</td>\n",
       "      <td>0.115118</td>\n",
       "      <td>0.057559</td>\n",
       "    </tr>\n",
       "    <tr>\n",
       "      <th>17</th>\n",
       "      <td>(0, 1, 39, 221, 303, 320, 392, 420, 515, 531, ...</td>\n",
       "      <td>[0.6762130686083945, 0.5818320206573213, 0.857...</td>\n",
       "      <td>0.765948</td>\n",
       "      <td>(0, 1, 39, 221, 303, 320, 392, 420, 515, 531, ...</td>\n",
       "      <td>0.150875</td>\n",
       "      <td>0.117386</td>\n",
       "      <td>0.058693</td>\n",
       "    </tr>\n",
       "    <tr>\n",
       "      <th>18</th>\n",
       "      <td>(0, 1, 39, 221, 303, 320, 392, 420, 515, 531, ...</td>\n",
       "      <td>[0.6660196270537091, 0.5653675999558601, 0.860...</td>\n",
       "      <td>0.761366</td>\n",
       "      <td>(0, 1, 39, 221, 303, 320, 392, 420, 515, 531, ...</td>\n",
       "      <td>0.161228</td>\n",
       "      <td>0.125441</td>\n",
       "      <td>0.06272</td>\n",
       "    </tr>\n",
       "    <tr>\n",
       "      <th>19</th>\n",
       "      <td>(0, 1, 39, 221, 303, 320, 392, 420, 515, 531, ...</td>\n",
       "      <td>[0.6462223806307948, 0.5435487801615797, 0.857...</td>\n",
       "      <td>0.752495</td>\n",
       "      <td>(0, 1, 39, 221, 303, 320, 392, 420, 515, 531, ...</td>\n",
       "      <td>0.174672</td>\n",
       "      <td>0.135901</td>\n",
       "      <td>0.06795</td>\n",
       "    </tr>\n",
       "    <tr>\n",
       "      <th>20</th>\n",
       "      <td>(0, 1, 39, 221, 302, 303, 320, 392, 420, 515, ...</td>\n",
       "      <td>[0.6274157793054952, 0.5225533078256592, 0.858...</td>\n",
       "      <td>0.742181</td>\n",
       "      <td>(0, 1, 39, 221, 302, 303, 320, 392, 420, 515, ...</td>\n",
       "      <td>0.184901</td>\n",
       "      <td>0.14386</td>\n",
       "      <td>0.07193</td>\n",
       "    </tr>\n",
       "    <tr>\n",
       "      <th>21</th>\n",
       "      <td>(0, 1, 27, 39, 221, 302, 303, 320, 392, 420, 5...</td>\n",
       "      <td>[0.611415245817239, 0.5036444010100504, 0.8556...</td>\n",
       "      <td>0.732055</td>\n",
       "      <td>(0, 1, 27, 39, 221, 302, 303, 320, 392, 420, 5...</td>\n",
       "      <td>0.193701</td>\n",
       "      <td>0.150706</td>\n",
       "      <td>0.075353</td>\n",
       "    </tr>\n",
       "    <tr>\n",
       "      <th>22</th>\n",
       "      <td>(0, 1, 27, 39, 221, 302, 303, 320, 392, 420, 5...</td>\n",
       "      <td>[0.5956709028175826, 0.480059430731259, 0.8478...</td>\n",
       "      <td>0.719288</td>\n",
       "      <td>(0, 1, 27, 39, 221, 302, 303, 320, 392, 420, 5...</td>\n",
       "      <td>0.20215</td>\n",
       "      <td>0.157279</td>\n",
       "      <td>0.07864</td>\n",
       "    </tr>\n",
       "    <tr>\n",
       "      <th>23</th>\n",
       "      <td>(0, 1, 27, 39, 221, 302, 303, 304, 320, 392, 4...</td>\n",
       "      <td>[0.5763234078595763, 0.45059401393150567, 0.84...</td>\n",
       "      <td>0.7052</td>\n",
       "      <td>(0, 1, 27, 39, 221, 302, 303, 304, 320, 392, 4...</td>\n",
       "      <td>0.213865</td>\n",
       "      <td>0.166394</td>\n",
       "      <td>0.083197</td>\n",
       "    </tr>\n",
       "    <tr>\n",
       "      <th>24</th>\n",
       "      <td>(0, 1, 27, 39, 221, 302, 303, 304, 320, 392, 4...</td>\n",
       "      <td>[0.5559770840237114, 0.4212648561760579, 0.833...</td>\n",
       "      <td>0.689561</td>\n",
       "      <td>(0, 1, 27, 39, 221, 302, 303, 304, 320, 392, 4...</td>\n",
       "      <td>0.224683</td>\n",
       "      <td>0.174811</td>\n",
       "      <td>0.087405</td>\n",
       "    </tr>\n",
       "    <tr>\n",
       "      <th>25</th>\n",
       "      <td>(0, 1, 27, 39, 221, 302, 303, 304, 320, 392, 4...</td>\n",
       "      <td>[0.5260852731444778, 0.38999489743837024, 0.82...</td>\n",
       "      <td>0.672006</td>\n",
       "      <td>(0, 1, 27, 39, 221, 302, 303, 304, 320, 392, 4...</td>\n",
       "      <td>0.239066</td>\n",
       "      <td>0.186002</td>\n",
       "      <td>0.093001</td>\n",
       "    </tr>\n",
       "    <tr>\n",
       "      <th>26</th>\n",
       "      <td>(0, 1, 27, 39, 221, 302, 303, 304, 320, 328, 3...</td>\n",
       "      <td>[0.5011699888030885, 0.34975710624775347, 0.81...</td>\n",
       "      <td>0.65243</td>\n",
       "      <td>(0, 1, 27, 39, 221, 302, 303, 304, 320, 328, 3...</td>\n",
       "      <td>0.254334</td>\n",
       "      <td>0.197881</td>\n",
       "      <td>0.09894</td>\n",
       "    </tr>\n",
       "    <tr>\n",
       "      <th>27</th>\n",
       "      <td>(0, 1, 27, 39, 221, 302, 303, 304, 318, 320, 3...</td>\n",
       "      <td>[0.47258033072768735, 0.3086518728528721, 0.80...</td>\n",
       "      <td>0.630241</td>\n",
       "      <td>(0, 1, 27, 39, 221, 302, 303, 304, 318, 320, 3...</td>\n",
       "      <td>0.2688</td>\n",
       "      <td>0.209135</td>\n",
       "      <td>0.104568</td>\n",
       "    </tr>\n",
       "    <tr>\n",
       "      <th>28</th>\n",
       "      <td>(0, 1, 27, 39, 221, 300, 302, 303, 304, 318, 3...</td>\n",
       "      <td>[0.432247062476802, 0.2604347132341742, 0.8036...</td>\n",
       "      <td>0.605313</td>\n",
       "      <td>(0, 1, 27, 39, 221, 300, 302, 303, 304, 318, 3...</td>\n",
       "      <td>0.289606</td>\n",
       "      <td>0.225323</td>\n",
       "      <td>0.112662</td>\n",
       "    </tr>\n",
       "    <tr>\n",
       "      <th>29</th>\n",
       "      <td>(0, 1, 27, 39, 221, 233, 300, 302, 303, 304, 3...</td>\n",
       "      <td>[0.3943560383610344, 0.20679485493968885, 0.77...</td>\n",
       "      <td>0.578068</td>\n",
       "      <td>(0, 1, 27, 39, 221, 233, 300, 302, 303, 304, 3...</td>\n",
       "      <td>0.312168</td>\n",
       "      <td>0.242877</td>\n",
       "      <td>0.121439</td>\n",
       "    </tr>\n",
       "    <tr>\n",
       "      <th>30</th>\n",
       "      <td>(0, 1, 27, 39, 221, 233, 249, 300, 302, 303, 3...</td>\n",
       "      <td>[0.35047182520045406, 0.14512934054727167, 0.7...</td>\n",
       "      <td>0.549718</td>\n",
       "      <td>(0, 1, 27, 39, 221, 233, 249, 300, 302, 303, 3...</td>\n",
       "      <td>0.339732</td>\n",
       "      <td>0.264323</td>\n",
       "      <td>0.132161</td>\n",
       "    </tr>\n",
       "    <tr>\n",
       "      <th>31</th>\n",
       "      <td>(0, 1, 27, 39, 221, 233, 247, 249, 300, 302, 3...</td>\n",
       "      <td>[0.3024501955996296, 0.06983964245097718, 0.75...</td>\n",
       "      <td>0.51503</td>\n",
       "      <td>(0, 1, 27, 39, 221, 233, 247, 249, 300, 302, 3...</td>\n",
       "      <td>0.372156</td>\n",
       "      <td>0.28955</td>\n",
       "      <td>0.144775</td>\n",
       "    </tr>\n",
       "    <tr>\n",
       "      <th>32</th>\n",
       "      <td>(0, 1, 27, 39, 221, 233, 247, 249, 300, 302, 3...</td>\n",
       "      <td>[0.22228758523312508, -0.018511226851045892, 0...</td>\n",
       "      <td>0.473668</td>\n",
       "      <td>(0, 1, 27, 39, 221, 233, 247, 249, 300, 302, 3...</td>\n",
       "      <td>0.419497</td>\n",
       "      <td>0.326383</td>\n",
       "      <td>0.163191</td>\n",
       "    </tr>\n",
       "    <tr>\n",
       "      <th>33</th>\n",
       "      <td>(0, 1, 27, 39, 221, 232, 233, 247, 249, 300, 3...</td>\n",
       "      <td>[0.14796641220427986, -0.12161727743569362, 0....</td>\n",
       "      <td>0.424968</td>\n",
       "      <td>(0, 1, 27, 39, 221, 232, 233, 247, 249, 300, 3...</td>\n",
       "      <td>0.465922</td>\n",
       "      <td>0.362503</td>\n",
       "      <td>0.181252</td>\n",
       "    </tr>\n",
       "    <tr>\n",
       "      <th>34</th>\n",
       "      <td>(0, 1, 27, 39, 221, 232, 233, 247, 249, 300, 3...</td>\n",
       "      <td>[0.0773488746150921, -0.24853054488428272, 0.6...</td>\n",
       "      <td>0.362912</td>\n",
       "      <td>(0, 1, 27, 39, 221, 232, 233, 247, 249, 300, 3...</td>\n",
       "      <td>0.511035</td>\n",
       "      <td>0.397603</td>\n",
       "      <td>0.198801</td>\n",
       "    </tr>\n",
       "    <tr>\n",
       "      <th>35</th>\n",
       "      <td>(0, 1, 27, 39, 221, 232, 233, 235, 247, 249, 3...</td>\n",
       "      <td>[-0.025164810998061782, -0.40805570972910266, ...</td>\n",
       "      <td>0.287555</td>\n",
       "      <td>(0, 1, 27, 39, 221, 232, 233, 235, 247, 249, 3...</td>\n",
       "      <td>0.575478</td>\n",
       "      <td>0.447741</td>\n",
       "      <td>0.223871</td>\n",
       "    </tr>\n",
       "  </tbody>\n",
       "</table>\n",
       "</div>"
      ],
      "text/plain": [
       "                                          feature_idx  \\\n",
       "1                                                (0,)   \n",
       "2                                            (0, 320)   \n",
       "3                                         (0, 1, 320)   \n",
       "4                                    (0, 1, 320, 420)   \n",
       "5                               (0, 1, 320, 420, 515)   \n",
       "6                          (0, 1, 320, 392, 420, 515)   \n",
       "7                     (0, 1, 320, 392, 420, 515, 711)   \n",
       "8                (0, 1, 320, 392, 420, 515, 711, 810)   \n",
       "9           (0, 1, 221, 320, 392, 420, 515, 711, 810)   \n",
       "10     (0, 1, 221, 303, 320, 392, 420, 515, 711, 810)   \n",
       "11  (0, 1, 221, 303, 320, 392, 420, 515, 681, 711,...   \n",
       "12  (0, 1, 39, 221, 303, 320, 392, 420, 515, 681, ...   \n",
       "13  (0, 1, 39, 221, 303, 320, 392, 420, 515, 681, ...   \n",
       "14  (0, 1, 39, 221, 303, 320, 392, 420, 515, 681, ...   \n",
       "15  (0, 1, 39, 221, 303, 320, 392, 420, 515, 531, ...   \n",
       "16  (0, 1, 39, 221, 303, 320, 392, 420, 515, 531, ...   \n",
       "17  (0, 1, 39, 221, 303, 320, 392, 420, 515, 531, ...   \n",
       "18  (0, 1, 39, 221, 303, 320, 392, 420, 515, 531, ...   \n",
       "19  (0, 1, 39, 221, 303, 320, 392, 420, 515, 531, ...   \n",
       "20  (0, 1, 39, 221, 302, 303, 320, 392, 420, 515, ...   \n",
       "21  (0, 1, 27, 39, 221, 302, 303, 320, 392, 420, 5...   \n",
       "22  (0, 1, 27, 39, 221, 302, 303, 320, 392, 420, 5...   \n",
       "23  (0, 1, 27, 39, 221, 302, 303, 304, 320, 392, 4...   \n",
       "24  (0, 1, 27, 39, 221, 302, 303, 304, 320, 392, 4...   \n",
       "25  (0, 1, 27, 39, 221, 302, 303, 304, 320, 392, 4...   \n",
       "26  (0, 1, 27, 39, 221, 302, 303, 304, 320, 328, 3...   \n",
       "27  (0, 1, 27, 39, 221, 302, 303, 304, 318, 320, 3...   \n",
       "28  (0, 1, 27, 39, 221, 300, 302, 303, 304, 318, 3...   \n",
       "29  (0, 1, 27, 39, 221, 233, 300, 302, 303, 304, 3...   \n",
       "30  (0, 1, 27, 39, 221, 233, 249, 300, 302, 303, 3...   \n",
       "31  (0, 1, 27, 39, 221, 233, 247, 249, 300, 302, 3...   \n",
       "32  (0, 1, 27, 39, 221, 233, 247, 249, 300, 302, 3...   \n",
       "33  (0, 1, 27, 39, 221, 232, 233, 247, 249, 300, 3...   \n",
       "34  (0, 1, 27, 39, 221, 232, 233, 247, 249, 300, 3...   \n",
       "35  (0, 1, 27, 39, 221, 232, 233, 235, 247, 249, 3...   \n",
       "\n",
       "                                            cv_scores avg_score  \\\n",
       "1   [0.5982603802396045, 0.6568603711302405, -1.96... -0.129688   \n",
       "2   [0.7078464825487347, 0.6142579563184888, 0.358...  0.560267   \n",
       "3   [0.695189899574583, 0.7385602379641204, 0.4207...  0.661871   \n",
       "4   [0.7438713406947313, 0.6820868691852842, 0.615...  0.720467   \n",
       "5   [0.7484649549878079, 0.6609465023561982, 0.795...  0.748448   \n",
       "6   [0.7553413490135152, 0.6990816429328848, 0.781...   0.77604   \n",
       "7   [0.749174244581278, 0.6888338679626655, 0.8008...  0.779736   \n",
       "8   [0.7364291503668554, 0.6858561278090074, 0.764...  0.785445   \n",
       "9   [0.7326054951635939, 0.6748830422393035, 0.826...  0.794637   \n",
       "10  [0.728554893020585, 0.6618931848153639, 0.8493...  0.796084   \n",
       "11  [0.7239214920593813, 0.6533491897188428, 0.846...  0.794792   \n",
       "12  [0.7212297339719231, 0.6483597368784362, 0.847...  0.792535   \n",
       "13  [0.7134990146751109, 0.6362707961340659, 0.840...  0.788404   \n",
       "14  [0.7035938292500563, 0.6253016043343405, 0.870...  0.784339   \n",
       "15  [0.6946002555316533, 0.6140321859524724, 0.854...   0.77901   \n",
       "16  [0.6817344805257748, 0.59545608021096, 0.85593...  0.772685   \n",
       "17  [0.6762130686083945, 0.5818320206573213, 0.857...  0.765948   \n",
       "18  [0.6660196270537091, 0.5653675999558601, 0.860...  0.761366   \n",
       "19  [0.6462223806307948, 0.5435487801615797, 0.857...  0.752495   \n",
       "20  [0.6274157793054952, 0.5225533078256592, 0.858...  0.742181   \n",
       "21  [0.611415245817239, 0.5036444010100504, 0.8556...  0.732055   \n",
       "22  [0.5956709028175826, 0.480059430731259, 0.8478...  0.719288   \n",
       "23  [0.5763234078595763, 0.45059401393150567, 0.84...    0.7052   \n",
       "24  [0.5559770840237114, 0.4212648561760579, 0.833...  0.689561   \n",
       "25  [0.5260852731444778, 0.38999489743837024, 0.82...  0.672006   \n",
       "26  [0.5011699888030885, 0.34975710624775347, 0.81...   0.65243   \n",
       "27  [0.47258033072768735, 0.3086518728528721, 0.80...  0.630241   \n",
       "28  [0.432247062476802, 0.2604347132341742, 0.8036...  0.605313   \n",
       "29  [0.3943560383610344, 0.20679485493968885, 0.77...  0.578068   \n",
       "30  [0.35047182520045406, 0.14512934054727167, 0.7...  0.549718   \n",
       "31  [0.3024501955996296, 0.06983964245097718, 0.75...   0.51503   \n",
       "32  [0.22228758523312508, -0.018511226851045892, 0...  0.473668   \n",
       "33  [0.14796641220427986, -0.12161727743569362, 0....  0.424968   \n",
       "34  [0.0773488746150921, -0.24853054488428272, 0.6...  0.362912   \n",
       "35  [-0.025164810998061782, -0.40805570972910266, ...  0.287555   \n",
       "\n",
       "                                        feature_names  ci_bound   std_dev  \\\n",
       "1                                                (0,)  1.384239  1.076985   \n",
       "2                                            (0, 320)  0.203181  0.158082   \n",
       "3                                         (0, 1, 320)  0.168377  0.131003   \n",
       "4                                    (0, 1, 320, 420)  0.089727  0.069811   \n",
       "5                               (0, 1, 320, 420, 515)  0.065159  0.050696   \n",
       "6                          (0, 1, 320, 392, 420, 515)  0.059545  0.046328   \n",
       "7                     (0, 1, 320, 392, 420, 515, 711)   0.07099  0.055233   \n",
       "8                (0, 1, 320, 392, 420, 515, 711, 810)  0.094931   0.07386   \n",
       "9           (0, 1, 221, 320, 392, 420, 515, 711, 810)  0.101394  0.078888   \n",
       "10     (0, 1, 221, 303, 320, 392, 420, 515, 711, 810)  0.111604  0.086832   \n",
       "11  (0, 1, 221, 303, 320, 392, 420, 515, 681, 711,...  0.117875  0.091711   \n",
       "12  (0, 1, 39, 221, 303, 320, 392, 420, 515, 681, ...  0.119975  0.093345   \n",
       "13  (0, 1, 39, 221, 303, 320, 392, 420, 515, 681, ...  0.126351  0.098305   \n",
       "14  (0, 1, 39, 221, 303, 320, 392, 420, 515, 681, ...  0.132111  0.102787   \n",
       "15  (0, 1, 39, 221, 303, 320, 392, 420, 515, 531, ...   0.13818  0.107509   \n",
       "16  (0, 1, 39, 221, 303, 320, 392, 420, 515, 531, ...   0.14796  0.115118   \n",
       "17  (0, 1, 39, 221, 303, 320, 392, 420, 515, 531, ...  0.150875  0.117386   \n",
       "18  (0, 1, 39, 221, 303, 320, 392, 420, 515, 531, ...  0.161228  0.125441   \n",
       "19  (0, 1, 39, 221, 303, 320, 392, 420, 515, 531, ...  0.174672  0.135901   \n",
       "20  (0, 1, 39, 221, 302, 303, 320, 392, 420, 515, ...  0.184901   0.14386   \n",
       "21  (0, 1, 27, 39, 221, 302, 303, 320, 392, 420, 5...  0.193701  0.150706   \n",
       "22  (0, 1, 27, 39, 221, 302, 303, 320, 392, 420, 5...   0.20215  0.157279   \n",
       "23  (0, 1, 27, 39, 221, 302, 303, 304, 320, 392, 4...  0.213865  0.166394   \n",
       "24  (0, 1, 27, 39, 221, 302, 303, 304, 320, 392, 4...  0.224683  0.174811   \n",
       "25  (0, 1, 27, 39, 221, 302, 303, 304, 320, 392, 4...  0.239066  0.186002   \n",
       "26  (0, 1, 27, 39, 221, 302, 303, 304, 320, 328, 3...  0.254334  0.197881   \n",
       "27  (0, 1, 27, 39, 221, 302, 303, 304, 318, 320, 3...    0.2688  0.209135   \n",
       "28  (0, 1, 27, 39, 221, 300, 302, 303, 304, 318, 3...  0.289606  0.225323   \n",
       "29  (0, 1, 27, 39, 221, 233, 300, 302, 303, 304, 3...  0.312168  0.242877   \n",
       "30  (0, 1, 27, 39, 221, 233, 249, 300, 302, 303, 3...  0.339732  0.264323   \n",
       "31  (0, 1, 27, 39, 221, 233, 247, 249, 300, 302, 3...  0.372156   0.28955   \n",
       "32  (0, 1, 27, 39, 221, 233, 247, 249, 300, 302, 3...  0.419497  0.326383   \n",
       "33  (0, 1, 27, 39, 221, 232, 233, 247, 249, 300, 3...  0.465922  0.362503   \n",
       "34  (0, 1, 27, 39, 221, 232, 233, 247, 249, 300, 3...  0.511035  0.397603   \n",
       "35  (0, 1, 27, 39, 221, 232, 233, 235, 247, 249, 3...  0.575478  0.447741   \n",
       "\n",
       "     std_err  \n",
       "1   0.538492  \n",
       "2   0.079041  \n",
       "3   0.065501  \n",
       "4   0.034905  \n",
       "5   0.025348  \n",
       "6   0.023164  \n",
       "7   0.027616  \n",
       "8    0.03693  \n",
       "9   0.039444  \n",
       "10  0.043416  \n",
       "11  0.045855  \n",
       "12  0.046672  \n",
       "13  0.049153  \n",
       "14  0.051394  \n",
       "15  0.053754  \n",
       "16  0.057559  \n",
       "17  0.058693  \n",
       "18   0.06272  \n",
       "19   0.06795  \n",
       "20   0.07193  \n",
       "21  0.075353  \n",
       "22   0.07864  \n",
       "23  0.083197  \n",
       "24  0.087405  \n",
       "25  0.093001  \n",
       "26   0.09894  \n",
       "27  0.104568  \n",
       "28  0.112662  \n",
       "29  0.121439  \n",
       "30  0.132161  \n",
       "31  0.144775  \n",
       "32  0.163191  \n",
       "33  0.181252  \n",
       "34  0.198801  \n",
       "35  0.223871  "
      ]
     },
     "execution_count": 92,
     "metadata": {},
     "output_type": "execute_result"
    }
   ],
   "source": [
    "pd.DataFrame.from_dict(sfs.get_metric_dict()).T"
   ]
  },
  {
   "cell_type": "code",
   "execution_count": 139,
   "id": "4040eac1",
   "metadata": {},
   "outputs": [
    {
     "data": {
      "image/png": "[encoded data removed]",
      "text/plain": [
       "<Figure size 1152x576 with 1 Axes>"
      ]
     },
     "metadata": {
      "needs_background": "light"
     },
     "output_type": "display_data"
    }
   ],
   "source": [
    "from mlxtend.plotting import plot_sequential_feature_selection as plot_sfs\n",
    "\n",
    "fig = plot_sfs(sfs.get_metric_dict(), ylabel='(-1) * MAPE', figsize=(16,8))\n",
    "plt.title('Sequential Forward Selection (w. StdDev)')\n",
    "plt.grid()\n",
    "plt.show()"
   ]
  },
  {
   "cell_type": "code",
   "execution_count": 140,
   "id": "cd0fcbd1",
   "metadata": {},
   "outputs": [
    {
     "data": {
      "text/plain": [
       "StandardScaler()"
      ]
     },
     "execution_count": 140,
     "metadata": {},
     "output_type": "execute_result"
    }
   ],
   "source": [
    "filtered_df = main_m_df[['target'] + selected_cols_sfs]\n",
    "train_df = filtered_df.copy()\n",
    "train_df = train_df[((train_df.index >= start_date) & ((train_df.index <= finish_date)))]\n",
    "\n",
    "X = train_df.drop(['target'], axis=1)\n",
    "y = train_df.target\n",
    "\n",
    "scaler = StandardScaler()\n",
    "scaler.fit(X)\n",
    "#scaler = None"
   ]
  },
  {
   "cell_type": "code",
   "execution_count": 141,
   "id": "6c38ca0e",
   "metadata": {},
   "outputs": [
    {
     "data": {
      "text/plain": [
       "(array([1.36699094, 1.45777224, 1.08202266, 2.41454579, 3.14137074,\n",
       "        3.59573867, 3.58601305, 3.91034135, 4.56409792, 4.99527681,\n",
       "        5.48358129, 7.82484487, 8.05859304]),\n",
       " 3.960091489915633)"
      ]
     },
     "execution_count": 141,
     "metadata": {},
     "output_type": "execute_result"
    }
   ],
   "source": [
    "if not scaler:\n",
    "    scores = cross_val_score(ElasticNet(), X, y, cv=splits, scoring=make_scorer(mean_absolute_percentage_error))\n",
    "else:\n",
    "    scores = cross_val_score(ElasticNet(), scaler.transform(X), \n",
    "                             y, cv=splits, scoring=make_scorer(mean_absolute_percentage_error))\n",
    "scores, np.mean(scores)"
   ]
  },
  {
   "cell_type": "code",
   "execution_count": 88,
   "id": "9ffa06c2",
   "metadata": {},
   "outputs": [
    {
     "data": {
      "text/plain": [
       "(array([12.22154983,  9.43409257, 13.8488693 ,  9.34688951,  9.83520568,\n",
       "         8.24819928,  2.35260585]),\n",
       " 9.32677314588668)"
      ]
     },
     "execution_count": 88,
     "metadata": {},
     "output_type": "execute_result"
    }
   ],
   "source": [
    "if not scaler:\n",
    "    scores = cross_val_score(ElasticNet(), X, y, cv=splits, scoring=make_scorer(mean_absolute_percentage_error))\n",
    "else:\n",
    "    scores = cross_val_score(ElasticNet(), scaler.transform(X), \n",
    "                             y, cv=splits, scoring=make_scorer(mean_absolute_percentage_error))\n",
    "scores, np.mean(scores)"
   ]
  },
  {
   "cell_type": "code",
   "execution_count": 36,
   "id": "b1ff7148",
   "metadata": {},
   "outputs": [
    {
     "data": {
      "text/plain": [
       "(array([ 3.84440039,  4.29238718,  5.10466946,  7.19933332,  7.36198368,\n",
       "         8.08548769,  8.37955641,  8.79407474,  9.4819748 ,  9.73739389,\n",
       "         9.95904036, 12.4789397 , 12.71227841, 12.97811123, 12.91279195,\n",
       "        11.74082471, 11.79777529, 10.63550281]),\n",
       " 9.305362556748477)"
      ]
     },
     "execution_count": 36,
     "metadata": {},
     "output_type": "execute_result"
    }
   ],
   "source": [
    "scores = cross_val_score(Naive(), X, y, cv=splits, scoring=make_scorer(mean_absolute_percentage_error))\n",
    "scores, np.mean(scores)"
   ]
  },
  {
   "cell_type": "code",
   "execution_count": 121,
   "id": "fcb5359d",
   "metadata": {},
   "outputs": [],
   "source": [
    "X_train = X.iloc[splits[-1][0]]\n",
    "y_train = y.iloc[splits[-1][0]]\n",
    "\n",
    "X_val = X.iloc[splits[-1][1]]\n",
    "y_val = y.iloc[splits[-1][1]]"
   ]
  },
  {
   "cell_type": "code",
   "execution_count": 122,
   "id": "f038f6bb",
   "metadata": {},
   "outputs": [],
   "source": [
    "model = ElasticNet()\n",
    "if not scaler:\n",
    "    model.fit(X_train, y_train)\n",
    "    forecast = model.predict(X_val)\n",
    "else:\n",
    "    model.fit(scaler.transform(X_train), y_train)\n",
    "    forecast = model.predict(scaler.transform(X_val))"
   ]
  },
  {
   "cell_type": "code",
   "execution_count": 123,
   "id": "72b68b85",
   "metadata": {},
   "outputs": [
    {
     "data": {
      "image/png": "[encoded data removed]",
      "text/plain": [
       "<Figure size 1152x576 with 1 Axes>"
      ]
     },
     "metadata": {
      "needs_background": "light"
     },
     "output_type": "display_data"
    }
   ],
   "source": [
    "t = pd.DataFrame(y_val)\n",
    "t['prediction'] = forecast\n",
    "plt.figure(figsize=(16,8))\n",
    "plt.plot(t.target, label='Train')\n",
    "plt.plot(t.prediction, label='linear')\n",
    "plt.legend(loc='best')\n",
    "plt.show()"
   ]
  },
  {
   "cell_type": "code",
   "execution_count": 99,
   "id": "ad53f565",
   "metadata": {},
   "outputs": [
    {
     "data": {
      "text/plain": [
       "10"
      ]
     },
     "execution_count": 99,
     "metadata": {},
     "output_type": "execute_result"
    }
   ],
   "source": [
    "len(selected_cols_sfs)"
   ]
  },
  {
   "cell_type": "code",
   "execution_count": 52,
   "id": "6e61f229",
   "metadata": {},
   "outputs": [
    {
     "data": {
      "text/plain": [
       "[datetime.date(2021, 3, 1),\n",
       " datetime.date(2021, 4, 1),\n",
       " datetime.date(2021, 5, 1)]"
      ]
     },
     "execution_count": 52,
     "metadata": {},
     "output_type": "execute_result"
    }
   ],
   "source": [
    "date_points"
   ]
  },
  {
   "cell_type": "code",
   "execution_count": 54,
   "id": "60c705b8",
   "metadata": {},
   "outputs": [],
   "source": [
    "from dateutil.relativedelta import relativedelta"
   ]
  },
  {
   "cell_type": "code",
   "execution_count": 56,
   "id": "5fa35dc1",
   "metadata": {},
   "outputs": [
    {
     "data": {
      "text/plain": [
       "datetime.date(2022, 2, 1)"
      ]
     },
     "execution_count": 56,
     "metadata": {},
     "output_type": "execute_result"
    }
   ],
   "source": [
    "date(2021, 12, 1) + relativedelta(months=2)"
   ]
  },
  {
   "cell_type": "code",
   "execution_count": 142,
   "id": "2f3d55a4",
   "metadata": {},
   "outputs": [],
   "source": [
    "n_lag_target = 12\n",
    "n_step = look_forward\n",
    "\n",
    "forecasts = []\n",
    "date_points = []\n",
    "date_point_start = date(2021, 12, 1)\n",
    "for i in range(0, 7):\n",
    "    s_date = date_point_start + relativedelta(months=i + 1)\n",
    "    f_date = date_point_start + relativedelta(months=i + n_step)\n",
    "    forecast_df = pd.DataFrame(data={'period': \n",
    "                               get_period(start_date=s_date, \n",
    "                                          finish_date=f_date, period='m')})\n",
    "    forecasts.append(forecast_df)\n",
    "    date_points.append(date_point_start + relativedelta(months=i))\n",
    "    \n",
    "for i, date_point in enumerate(date_points):\n",
    "    train_period_df = main_m_df[((main_m_df.index >= start_data) & ((main_m_df.index <= str(date_point))))]\n",
    "    X_train = train_period_df.drop(['target'], axis=1)[selected_cols_sfs]\n",
    "    y_train = train_period_df.target\n",
    "    model = ElasticNet()\n",
    "    if not scaler:\n",
    "        model.fit(X_train, y_train)\n",
    "    else:\n",
    "        model.fit(scaler.transform(X_train), y_train)\n",
    "\n",
    "    forecast_df = forecasts[i]\n",
    "    forecast_df.set_index('period', inplace=True)\n",
    "    forecast_df['pred'] = get_forecast(main_m_df.loc[str(date_point):str(date_point)], \n",
    "                                       model, selected_cols_sfs, \n",
    "                                       n_step=n_step, n_lag=n_lag_target, scaler=scaler)[0]\n",
    "    "
   ]
  },
  {
   "cell_type": "code",
   "execution_count": 143,
   "id": "eb5d1c9b",
   "metadata": {},
   "outputs": [
    {
     "data": {
      "text/html": [
       "<div>\n",
       "<style scoped>\n",
       "    .dataframe tbody tr th:only-of-type {\n",
       "        vertical-align: middle;\n",
       "    }\n",
       "\n",
       "    .dataframe tbody tr th {\n",
       "        vertical-align: top;\n",
       "    }\n",
       "\n",
       "    .dataframe thead th {\n",
       "        text-align: right;\n",
       "    }\n",
       "</style>\n",
       "<table border=\"1\" class=\"dataframe\">\n",
       "  <thead>\n",
       "    <tr style=\"text-align: right;\">\n",
       "      <th></th>\n",
       "      <th>pred</th>\n",
       "    </tr>\n",
       "    <tr>\n",
       "      <th>period</th>\n",
       "      <th></th>\n",
       "    </tr>\n",
       "  </thead>\n",
       "  <tbody>\n",
       "    <tr>\n",
       "      <th>2022-01-01</th>\n",
       "      <td>24418.599633</td>\n",
       "    </tr>\n",
       "    <tr>\n",
       "      <th>2022-02-01</th>\n",
       "      <td>25686.507618</td>\n",
       "    </tr>\n",
       "    <tr>\n",
       "      <th>2022-03-01</th>\n",
       "      <td>26318.521650</td>\n",
       "    </tr>\n",
       "    <tr>\n",
       "      <th>2022-04-01</th>\n",
       "      <td>26633.561654</td>\n",
       "    </tr>\n",
       "    <tr>\n",
       "      <th>2022-05-01</th>\n",
       "      <td>26790.599629</td>\n",
       "    </tr>\n",
       "    <tr>\n",
       "      <th>2022-06-01</th>\n",
       "      <td>26868.878341</td>\n",
       "    </tr>\n",
       "  </tbody>\n",
       "</table>\n",
       "</div>"
      ],
      "text/plain": [
       "                    pred\n",
       "period                  \n",
       "2022-01-01  24418.599633\n",
       "2022-02-01  25686.507618\n",
       "2022-03-01  26318.521650\n",
       "2022-04-01  26633.561654\n",
       "2022-05-01  26790.599629\n",
       "2022-06-01  26868.878341"
      ]
     },
     "execution_count": 143,
     "metadata": {},
     "output_type": "execute_result"
    }
   ],
   "source": [
    "forecasts[0][:6]"
   ]
  },
  {
   "cell_type": "code",
   "execution_count": 144,
   "id": "85f46286",
   "metadata": {},
   "outputs": [
    {
     "data": {
      "text/plain": [
       "5.391955911490933"
      ]
     },
     "execution_count": 144,
     "metadata": {},
     "output_type": "execute_result"
    }
   ],
   "source": [
    "mean_absolute_percentage_error(main_m_df.target[-6:].values, forecasts[0][:6].pred.values)"
   ]
  },
  {
   "cell_type": "code",
   "execution_count": 145,
   "id": "a4d0b559",
   "metadata": {},
   "outputs": [],
   "source": [
    "forecast_m = pd.DataFrame(data={'period': \n",
    "                                get_period(start_date=date(2022, 1, 1),\n",
    "                                           finish_date=date(2022, 7, 1)),\n",
    "                                'pred': \n",
    "                                [forecasts[i].iloc[0].pred for i, _ in enumerate(forecasts)]})\n",
    "forecast_m.set_index('period', inplace=True)"
   ]
  },
  {
   "cell_type": "code",
   "execution_count": 158,
   "id": "62cfff83",
   "metadata": {},
   "outputs": [
    {
     "data": {
      "image/png": "[encoded data removed]",
      "text/plain": [
       "<Figure size 1152x576 with 1 Axes>"
      ]
     },
     "metadata": {
      "needs_background": "light"
     },
     "output_type": "display_data"
    }
   ],
   "source": [
    "plt.figure(figsize=(16,8))\n",
    "#for i, date_point_str in enumerate(date_points):\n",
    "#    plt.plot(forecasts[i], label=date_point_str, linestyle='--')\n",
    "plt.plot(forecasts[0], label=date_points[0], linestyle='--')\n",
    "plt.plot(forecasts[5], label=date_points[5], linestyle='--')\n",
    "plt.plot(forecasts[6], label=date_points[6], linestyle='--')\n",
    "#plt.plot(forecast_m, label='forecast',\n",
    "#         color='black', linestyle='-',\n",
    "#         linewidth=4)\n",
    "plt.plot(main_m_df[(main_m_df.index >= '2021-12-01')].target, label='real',\n",
    "         color='red',\n",
    "         linewidth=4)\n",
    "plt.legend(loc='best')\n",
    "plt.grid()\n",
    "plt.show()"
   ]
  },
  {
   "cell_type": "code",
   "execution_count": 147,
   "id": "1aaeace4",
   "metadata": {},
   "outputs": [
    {
     "data": {
      "text/plain": [
       "[<matplotlib.lines.Line2D at 0x145f9cf96d0>]"
      ]
     },
     "execution_count": 147,
     "metadata": {},
     "output_type": "execute_result"
    },
    {
     "data": {
      "image/png": "[encoded data removed]",
      "text/plain": [
       "<Figure size 1152x576 with 1 Axes>"
      ]
     },
     "metadata": {
      "needs_background": "light"
     },
     "output_type": "display_data"
    }
   ],
   "source": [
    "plt.figure(figsize=(16,8))\n",
    "plt.plot(forecasts[6], label=date_points[6], linestyle='--')"
   ]
  },
  {
   "cell_type": "code",
   "execution_count": 148,
   "id": "2bba4adf",
   "metadata": {},
   "outputs": [
    {
     "data": {
      "text/html": [
       "<div>\n",
       "<style scoped>\n",
       "    .dataframe tbody tr th:only-of-type {\n",
       "        vertical-align: middle;\n",
       "    }\n",
       "\n",
       "    .dataframe tbody tr th {\n",
       "        vertical-align: top;\n",
       "    }\n",
       "\n",
       "    .dataframe thead th {\n",
       "        text-align: right;\n",
       "    }\n",
       "</style>\n",
       "<table border=\"1\" class=\"dataframe\">\n",
       "  <thead>\n",
       "    <tr style=\"text-align: right;\">\n",
       "      <th></th>\n",
       "      <th>pred</th>\n",
       "    </tr>\n",
       "    <tr>\n",
       "      <th>period</th>\n",
       "      <th></th>\n",
       "    </tr>\n",
       "  </thead>\n",
       "  <tbody>\n",
       "    <tr>\n",
       "      <th>2022-07-01</th>\n",
       "      <td>26670.598222</td>\n",
       "    </tr>\n",
       "    <tr>\n",
       "      <th>2022-08-01</th>\n",
       "      <td>26754.702625</td>\n",
       "    </tr>\n",
       "    <tr>\n",
       "      <th>2022-09-01</th>\n",
       "      <td>26796.165839</td>\n",
       "    </tr>\n",
       "    <tr>\n",
       "      <th>2022-10-01</th>\n",
       "      <td>26816.607077</td>\n",
       "    </tr>\n",
       "    <tr>\n",
       "      <th>2022-11-01</th>\n",
       "      <td>26826.684546</td>\n",
       "    </tr>\n",
       "    <tr>\n",
       "      <th>2022-12-01</th>\n",
       "      <td>26831.652707</td>\n",
       "    </tr>\n",
       "    <tr>\n",
       "      <th>2023-01-01</th>\n",
       "      <td>26834.101995</td>\n",
       "    </tr>\n",
       "    <tr>\n",
       "      <th>2023-02-01</th>\n",
       "      <td>26835.309486</td>\n",
       "    </tr>\n",
       "    <tr>\n",
       "      <th>2023-03-01</th>\n",
       "      <td>26835.904776</td>\n",
       "    </tr>\n",
       "    <tr>\n",
       "      <th>2023-04-01</th>\n",
       "      <td>26836.198252</td>\n",
       "    </tr>\n",
       "    <tr>\n",
       "      <th>2023-05-01</th>\n",
       "      <td>26836.342935</td>\n",
       "    </tr>\n",
       "    <tr>\n",
       "      <th>2023-06-01</th>\n",
       "      <td>26836.414263</td>\n",
       "    </tr>\n",
       "  </tbody>\n",
       "</table>\n",
       "</div>"
      ],
      "text/plain": [
       "                    pred\n",
       "period                  \n",
       "2022-07-01  26670.598222\n",
       "2022-08-01  26754.702625\n",
       "2022-09-01  26796.165839\n",
       "2022-10-01  26816.607077\n",
       "2022-11-01  26826.684546\n",
       "2022-12-01  26831.652707\n",
       "2023-01-01  26834.101995\n",
       "2023-02-01  26835.309486\n",
       "2023-03-01  26835.904776\n",
       "2023-04-01  26836.198252\n",
       "2023-05-01  26836.342935\n",
       "2023-06-01  26836.414263"
      ]
     },
     "execution_count": 148,
     "metadata": {},
     "output_type": "execute_result"
    }
   ],
   "source": [
    "forecasts[6]"
   ]
  },
  {
   "cell_type": "code",
   "execution_count": 149,
   "id": "bc4876ea",
   "metadata": {},
   "outputs": [],
   "source": [
    "finish_date = date(2022, 6, 24)\n",
    "filtered_df = main_m_df[['target'] + selected_cols_sfs]\n",
    "train_df = filtered_df.copy()\n",
    "train_df = train_df[((train_df.index >= start_data) & ((train_df.index <= str(finish_date))))]\n",
    "\n",
    "X = train_df.drop(['target'], axis=1)\n",
    "y = train_df.target"
   ]
  },
  {
   "cell_type": "code",
   "execution_count": 150,
   "id": "14921521",
   "metadata": {},
   "outputs": [
    {
     "data": {
      "text/plain": [
       "(6.71773855298246, 0.9447011910140313)"
      ]
     },
     "execution_count": 150,
     "metadata": {},
     "output_type": "execute_result"
    }
   ],
   "source": [
    "mean_absolute_percentage_error(y, X.target_lag_1), r2_score(y, X.target_lag_1)"
   ]
  },
  {
   "cell_type": "code",
   "execution_count": 151,
   "id": "45892f0e",
   "metadata": {},
   "outputs": [],
   "source": [
    "model = ElasticNet()\n",
    "if not scaler:\n",
    "    model.fit(X, y)\n",
    "else:\n",
    "    model.fit(scaler.transform(X), y)"
   ]
  },
  {
   "cell_type": "code",
   "execution_count": 152,
   "id": "b123bff1",
   "metadata": {},
   "outputs": [
    {
     "data": {
      "text/plain": [
       "(14.637646737864474, 0.8541030245569725)"
      ]
     },
     "execution_count": 152,
     "metadata": {},
     "output_type": "execute_result"
    }
   ],
   "source": [
    "if not scaler:\n",
    "    forecast = model.predict(X)\n",
    "else:\n",
    "    forecast = model.predict(scaler.transform(X))\n",
    "train_df['prediction'] = forecast\n",
    "mean_absolute_percentage_error(y, forecast), r2_score(y, forecast)"
   ]
  },
  {
   "cell_type": "code",
   "execution_count": 153,
   "id": "665f6e12",
   "metadata": {},
   "outputs": [
    {
     "data": {
      "image/png": "[encoded data removed]",
      "text/plain": [
       "<Figure size 1152x576 with 1 Axes>"
      ]
     },
     "metadata": {
      "needs_background": "light"
     },
     "output_type": "display_data"
    }
   ],
   "source": [
    "plt.figure(figsize=(16,8))\n",
    "plt.plot(train_df[((train_df.index >= '2020-01-01') & ((train_df.index <= '2022-06-24')))].target, label='real')\n",
    "plt.plot(train_df[((train_df.index >= '2020-01-01') & ((train_df.index <= '2022-06-24')))].prediction, label='forecast')\n",
    "plt.legend(loc='best')\n",
    "plt.show()"
   ]
  },
  {
   "cell_type": "code",
   "execution_count": 154,
   "id": "5c6eb005",
   "metadata": {},
   "outputs": [
    {
     "data": {
      "text/plain": [
       "<AxesSubplot:>"
      ]
     },
     "execution_count": 154,
     "metadata": {},
     "output_type": "execute_result"
    },
    {
     "data": {
      "image/png": "[encoded data removed]",
      "text/plain": [
       "<Figure size 1152x576 with 1 Axes>"
      ]
     },
     "metadata": {
      "needs_background": "light"
     },
     "output_type": "display_data"
    }
   ],
   "source": [
    "imp_df = pd.Series(abs(model.coef_), index=X.columns).sort_values()\n",
    "\n",
    "plt.figure(figsize=(16,8))\n",
    "imp_df[-15:].plot(kind='barh')"
   ]
  },
  {
   "cell_type": "code",
   "execution_count": 67,
   "id": "31dca034",
   "metadata": {},
   "outputs": [
    {
     "name": "stdout",
     "output_type": "stream",
     "text": [
      "target_lag_1: 3491.214230431761\n",
      "Handysize Bulker Sales_33262_lag_1: 1449.3847217589887\n",
      "Handysize Bulker Scrap Value_8693_lag_1: 1089.338229628199\n",
      "Brent Crude Oil Price_lag_11: 654.946065788824\n",
      "Saudi Posted Contract Price - Propane_lag_10: 543.1232417980805\n",
      "Mont Belvieu Texas Spot Price - Propane_lag_7: 394.95055294316455\n",
      "Mont Belvieu Texas Spot Price - Propane_lag_std: 324.75344070590785\n",
      "Handysize Bulker Scrap Value_8693_lag_4: 256.4594055773361\n",
      "Inflation Indicator Japan_lag_4: 221.64934730592623\n",
      "Inflation Indicator OECD Europe (excl Turkey)_lag_1: 178.82564890404072\n",
      "Inflation Indicator OECD Europe (excl Turkey)_lag_2: 153.19560646942085\n",
      "Saudi Posted Contract Price - Propane_lag_2: 121.55309578464532\n",
      "Inflation Indicator Japan_lag_9: 116.01751063247028\n",
      "Natural Gas Spot Price, NGB Point Europe_lag_3: 90.64644850387049\n",
      "Inflation Indicator Japan_lag_10: 77.44190280419205\n",
      "Handysize Bulker Scrap Value_8693_lag_10: 70.98329155259273\n",
      "Inflation Indicator OECD Europe (excl Turkey)_lag_mean: 66.80515375613825\n",
      "Inflation Indicator Japan_lag_12: 64.22940646819413\n",
      "Japan Steel Ship Plate Commodity Price_lag_8: 58.85956860876919\n",
      "Japan Steel Ship Plate Commodity Price_lag_4: 53.2960812239266\n",
      "Inflation Indicator OECD Europe (excl Turkey)_lag_4: 50.69658763849559\n",
      "Inflation Indicator OECD Europe (excl Turkey)_lag_std: 28.93204883218786\n",
      "Japan Steel Ship Plate Commodity Price_lag_9: 26.648081547186266\n",
      "Inflation Indicator OECD Europe (excl Turkey)_lag_8: 23.92667408282972\n",
      "Inflation Indicator Japan_lag_11: 18.196361940117374\n",
      "Inflation Indicator Japan_lag_std: 16.787331084447388\n",
      "Brent Crude Oil Price_lag_1: 15.857961779397977\n",
      "Japan Steel Ship Plate Commodity Price_lag_3: 13.067437739140754\n",
      "Japan Steel Ship Plate Commodity Price_lag_10: 12.071600599467478\n",
      "Handysize Bulker Scrap Value_8693_lag_6: 9.676130662257505\n",
      "Natural Gas Spot Price, NGB Point Europe_lag_2: 9.63222024248397\n",
      "Saudi Posted Contract Price - Propane_lag_1: 8.577319374349708\n",
      "Japan Steel Ship Plate Commodity Price_lag_6: 5.936214832778939\n",
      "Inflation Indicator OECD Europe (excl Turkey)_lag_3: 5.206134345521255\n",
      "Gasoline Spot Price, FOB US Gulf_lag_1: 3.5862328705074185\n"
     ]
    }
   ],
   "source": [
    "# get importance\n",
    "feature_importances = abs(model.coef_)\n",
    "# summarize feature importance\n",
    "feature_names = X.columns\n",
    "for score, name in sorted(zip(feature_importances, feature_names), reverse=True)[:300]:\n",
    "    print('{}: {}'.format(name, score))"
   ]
  }
 ],
 "metadata": {
  "kernelspec": {
   "display_name": "Python 3 (ipykernel)",
   "language": "python",
   "name": "python3"
  },
  "language_info": {
   "codemirror_mode": {
    "name": "ipython",
    "version": 3
   },
   "file_extension": ".py",
   "mimetype": "text/x-python",
   "name": "python",
   "nbconvert_exporter": "python",
   "pygments_lexer": "ipython3",
   "version": "3.8.13"
  }
 },
 "nbformat": 4,
 "nbformat_minor": 5
}
